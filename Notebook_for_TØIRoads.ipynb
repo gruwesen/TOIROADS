{
 "cells": [
  {
   "cell_type": "code",
   "execution_count": 2,
   "metadata": {},
   "outputs": [],
   "source": [
    "import RoadGraphGeneratorTOI as RGG\n",
    "\n",
    "import time"
   ]
  },
  {
   "cell_type": "markdown",
   "metadata": {},
   "source": [
    "#Set some input variables"
   ]
  },
  {
   "cell_type": "code",
   "execution_count": 15,
   "metadata": {},
   "outputs": [],
   "source": [
    "variables = {\n",
    "    \"number\": 20, #number of graphs\n",
    "    \"min_size\": 20, #minimum number of nodes per graph\n",
    "    \"max_size\": 20, #maximum number of nodes per graph\n",
    "    \"capacity_factor\": 5,\n",
    "    \"density\": 0.04,\n",
    "    \"min_length\": 1, \n",
    "    \"max_length\": 10,\n",
    "    \"rate_pop\": 0.2,\n",
    "    \"max_pop\": 3,\n",
    "    \"rate_poi\": 0.3,\n",
    "    \"max_poi\": 3,\n",
    "    \"min_cap\": 10, \n",
    "    \"max_cap\": 100\n",
    "}"
   ]
  },
  {
   "cell_type": "markdown",
   "metadata": {},
   "source": [
    "#Create a list of pytorch geometric Data objects"
   ]
  },
  {
   "cell_type": "code",
   "execution_count": 16,
   "metadata": {},
   "outputs": [
    {
     "data": {
      "text/plain": [
       "[Data(x=[20, 4], edge_index=[2, 51], y=[20, 3]),\n",
       " Data(x=[20, 4], edge_index=[2, 49], y=[20, 3]),\n",
       " Data(x=[20, 4], edge_index=[2, 50], y=[20, 3]),\n",
       " Data(x=[20, 4], edge_index=[2, 51], y=[20, 3]),\n",
       " Data(x=[20, 4], edge_index=[2, 50], y=[20, 3]),\n",
       " Data(x=[20, 4], edge_index=[2, 51], y=[20, 3]),\n",
       " Data(x=[20, 4], edge_index=[2, 50], y=[20, 3]),\n",
       " Data(x=[20, 4], edge_index=[2, 51], y=[20, 3]),\n",
       " Data(x=[20, 4], edge_index=[2, 51], y=[20, 3]),\n",
       " Data(x=[20, 4], edge_index=[2, 50], y=[20, 3]),\n",
       " Data(x=[20, 4], edge_index=[2, 51], y=[20, 3]),\n",
       " Data(x=[20, 4], edge_index=[2, 50], y=[20, 3]),\n",
       " Data(x=[20, 4], edge_index=[2, 50], y=[20, 3]),\n",
       " Data(x=[20, 4], edge_index=[2, 50], y=[20, 3]),\n",
       " Data(x=[20, 4], edge_index=[2, 52], y=[20, 3]),\n",
       " Data(x=[20, 4], edge_index=[2, 51], y=[20, 3]),\n",
       " Data(x=[20, 4], edge_index=[2, 50], y=[20, 3]),\n",
       " Data(x=[20, 4], edge_index=[2, 51], y=[20, 3]),\n",
       " Data(x=[20, 4], edge_index=[2, 50], y=[20, 3]),\n",
       " Data(x=[20, 4], edge_index=[2, 51], y=[20, 3])]"
      ]
     },
     "execution_count": 16,
     "metadata": {},
     "output_type": "execute_result"
    }
   ],
   "source": [
    "dataset = RGG.TorchDataSetMaker.generate_torch_dataset_with_congestion(**variables)\n",
    "dataset"
   ]
  },
  {
   "cell_type": "markdown",
   "metadata": {},
   "source": [
    "#Inspect node properties"
   ]
  },
  {
   "cell_type": "code",
   "execution_count": 17,
   "metadata": {},
   "outputs": [
    {
     "data": {
      "text/plain": [
       "tensor([[157.0000,   4.4857,   1.0000],\n",
       "        [ 96.0000,   1.2000,   1.0000],\n",
       "        [180.0000,   5.1429,   1.0000],\n",
       "        [ 38.0000,   0.4471,   0.0000],\n",
       "        [417.0000,   9.2667,   1.0000],\n",
       "        [195.0000,   1.9500,   1.0000],\n",
       "        [ 88.0000,   0.9778,   0.0000],\n",
       "        [274.0000,   7.8286,   1.0000],\n",
       "        [266.0000,   3.8000,   1.0000],\n",
       "        [ 54.0000,   0.6000,   0.0000],\n",
       "        [ 82.0000,   0.9111,   0.0000],\n",
       "        [148.0000,   3.2889,   1.0000],\n",
       "        [ 50.0000,   0.6667,   0.0000],\n",
       "        [260.0000,   4.3333,   1.0000],\n",
       "        [ 78.0000,   1.7333,   1.0000],\n",
       "        [ 30.0000,   0.4286,   0.0000],\n",
       "        [164.0000,   8.2000,   1.0000],\n",
       "        [  0.0000,   0.0000,   0.0000],\n",
       "        [ 52.0000,   0.6118,   0.0000],\n",
       "        [  0.0000,   0.0000,   0.0000]])"
      ]
     },
     "execution_count": 17,
     "metadata": {},
     "output_type": "execute_result"
    }
   ],
   "source": [
    "#Road usage, congestion, congested per node\n",
    "dataset[0].y"
   ]
  },
  {
   "cell_type": "code",
   "execution_count": 20,
   "metadata": {},
   "outputs": [
    {
     "data": {
      "text/plain": [
       "tensor([[10.,  0.,  4., 18.],\n",
       "        [ 7.,  0.,  0., 14.],\n",
       "        [ 3.,  0.,  0., 51.],\n",
       "        [ 8.,  0.,  0., 89.],\n",
       "        [ 5.,  4.,  3., 75.],\n",
       "        [ 3.,  0.,  0., 15.],\n",
       "        [ 1.,  0.,  1., 42.],\n",
       "        [ 5.,  3.,  2., 45.],\n",
       "        [ 8.,  2.,  4., 41.],\n",
       "        [ 9.,  1.,  0., 80.],\n",
       "        [10.,  1.,  0., 14.],\n",
       "        [ 2.,  0.,  4., 84.],\n",
       "        [ 4.,  0.,  0., 47.],\n",
       "        [ 1.,  0.,  4., 64.],\n",
       "        [ 5.,  1.,  0., 21.],\n",
       "        [ 8.,  0.,  0., 86.],\n",
       "        [ 9.,  1.,  3., 41.],\n",
       "        [ 7.,  0.,  0., 49.],\n",
       "        [ 4.,  0.,  2., 11.],\n",
       "        [10.,  0.,  0., 97.]])"
      ]
     },
     "execution_count": 20,
     "metadata": {},
     "output_type": "execute_result"
    }
   ],
   "source": [
    "#Road length, population, points of interest, capacity\n",
    "dataset[0].x"
   ]
  },
  {
   "cell_type": "markdown",
   "metadata": {},
   "source": [
    "#The Loader module saves the dataset and prepares it in a pytorch loader.\n",
    "\n",
    "loader.make_loader_multiprocess uses multiple cpu kernels to split work load.\n",
    "It requires folders data/processed, data/datasets, and there should be a dummy_data.pt dataset file in data/processed."
   ]
  },
  {
   "cell_type": "code",
   "execution_count": 23,
   "metadata": {},
   "outputs": [],
   "source": [
    "import loader as L"
   ]
  },
  {
   "cell_type": "code",
   "execution_count": 25,
   "metadata": {},
   "outputs": [
    {
     "name": "stdout",
     "output_type": "stream",
     "text": [
      "Dataset with the name Tester TOI exists. Loading dataset.\n",
      "Loader generation time:  0.006937980651855469\n"
     ]
    },
    {
     "name": "stderr",
     "output_type": "stream",
     "text": [
      "/home/fellesgrunde/anaconda3/envs/bgn/lib/python3.9/site-packages/torch_geometric/deprecation.py:13: UserWarning: 'data.DataLoader' is deprecated, use 'loader.DataLoader' instead\n",
      "  warnings.warn(out)\n"
     ]
    },
    {
     "data": {
      "text/plain": [
       "<torch_geometric.loader.dataloader.DataLoader at 0x7f4fd635f400>"
      ]
     },
     "execution_count": 25,
     "metadata": {},
     "output_type": "execute_result"
    }
   ],
   "source": [
    "#It's wise to \n",
    "L.make_loader_multiprocess(n_graphs=10, n_nodes=20, batch_size=5, dataset_name=\"Tester TOI\", shuffle=False, **variables)"
   ]
  },
  {
   "cell_type": "markdown",
   "metadata": {},
   "source": [
    "#GraphMaker makes the graphs in a lower level form:"
   ]
  },
  {
   "cell_type": "code",
   "execution_count": 36,
   "metadata": {},
   "outputs": [],
   "source": [
    "iterator = RGG.GraphMaker.generate_graphs(**variables)\n",
    "i = iterator.__next__()\n",
    "node = i[1]"
   ]
  },
  {
   "cell_type": "code",
   "execution_count": 37,
   "metadata": {},
   "outputs": [
    {
     "name": "stdout",
     "output_type": "stream",
     "text": [
      "1 [ 0  3  4  5  9 12 13 19] [2, 0, 0, 46] 185 1.9473684210526316 1\n"
     ]
    }
   ],
   "source": [
    "print(node.index, node.neighbours, node.features, node.road_usage, node.congestion, node.congested)"
   ]
  },
  {
   "cell_type": "code",
   "execution_count": null,
   "metadata": {},
   "outputs": [],
   "source": []
  }
 ],
 "metadata": {
  "kernelspec": {
   "display_name": "bgn",
   "language": "python",
   "name": "python3"
  },
  "language_info": {
   "codemirror_mode": {
    "name": "ipython",
    "version": 3
   },
   "file_extension": ".py",
   "mimetype": "text/x-python",
   "name": "python",
   "nbconvert_exporter": "python",
   "pygments_lexer": "ipython3",
   "version": "3.9.18"
  }
 },
 "nbformat": 4,
 "nbformat_minor": 2
}
