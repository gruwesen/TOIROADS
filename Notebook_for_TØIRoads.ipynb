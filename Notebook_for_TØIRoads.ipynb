{
 "cells": [
  {
   "cell_type": "code",
   "execution_count": 28,
   "metadata": {},
   "outputs": [],
   "source": [
    "import RoadGraphGeneratorTOI as RGG\n",
    "import time"
   ]
  },
  {
   "cell_type": "markdown",
   "metadata": {},
   "source": [
    "#Set some input variables"
   ]
  },
  {
   "cell_type": "code",
   "execution_count": 29,
   "metadata": {},
   "outputs": [],
   "source": [
    "variables = {\n",
    "    \"number\": 1, #number of graphs\n",
    "    \"min_size\": 3, #minimum number of nodes per graph\n",
    "    \"max_size\": 3, #maximum number of nodes per graph\n",
    "    \"capacity_factor\": 1,\n",
    "    \"density\": 0.4,\n",
    "    \"min_length\": 1, \n",
    "    \"max_length\": 5,\n",
    "    \"rate_pop\": 0.7,\n",
    "    \"max_pop\": 3,\n",
    "    \"rate_poi\": 0.7,\n",
    "    \"max_poi\": 3,\n",
    "    \"min_cap\": 1, \n",
    "    \"max_cap\": 3\n",
    "}"
   ]
  },
  {
   "cell_type": "markdown",
   "metadata": {},
   "source": [
    "#Create a list of pytorch geometric Data objects"
   ]
  },
  {
   "cell_type": "code",
   "execution_count": 30,
   "metadata": {},
   "outputs": [
    {
     "name": "stdout",
     "output_type": "stream",
     "text": [
      "Density is lower than minimum for a strongly connected adjacency matrix of this size. Returning A as is.\n"
     ]
    },
    {
     "data": {
      "text/plain": [
       "[Data(x=[3, 4], edge_index=[2, 4], y=[3, 3])]"
      ]
     },
     "execution_count": 30,
     "metadata": {},
     "output_type": "execute_result"
    }
   ],
   "source": [
    "dataset = RGG.TorchDataSetMaker.generate_torch_dataset_with_congestion(**variables)\n",
    "dataset"
   ]
  },
  {
   "cell_type": "markdown",
   "metadata": {},
   "source": [
    "#Inspect node properties"
   ]
  },
  {
   "cell_type": "code",
   "execution_count": 31,
   "metadata": {},
   "outputs": [
    {
     "data": {
      "text/plain": [
       "tensor([[60.0000, 60.0000,  1.0000],\n",
       "        [70.0000, 23.3333,  1.0000],\n",
       "        [24.0000, 24.0000,  1.0000]])"
      ]
     },
     "execution_count": 31,
     "metadata": {},
     "output_type": "execute_result"
    }
   ],
   "source": [
    "#Road usage, congestion, congested per node\n",
    "dataset[0].y"
   ]
  },
  {
   "cell_type": "code",
   "execution_count": 32,
   "metadata": {},
   "outputs": [
    {
     "data": {
      "text/plain": [
       "tensor([[3., 3., 2., 1.],\n",
       "        [3., 2., 3., 3.],\n",
       "        [3., 1., 1., 1.]])"
      ]
     },
     "execution_count": 32,
     "metadata": {},
     "output_type": "execute_result"
    }
   ],
   "source": [
    "#Road length, population, points of interest, capacity\n",
    "dataset[0].x"
   ]
  },
  {
   "cell_type": "markdown",
   "metadata": {},
   "source": [
    "#The Loader module saves the dataset and prepares it in a pytorch loader.\n"
   ]
  },
  {
   "cell_type": "code",
   "execution_count": 33,
   "metadata": {},
   "outputs": [],
   "source": [
    "import loader as L"
   ]
  },
  {
   "cell_type": "code",
   "execution_count": 34,
   "metadata": {},
   "outputs": [
    {
     "name": "stdout",
     "output_type": "stream",
     "text": [
      "Dataset with the name Tester TOI exists. Loading dataset.\n",
      "Loader generation time:  0.005733966827392578\n"
     ]
    },
    {
     "data": {
      "text/plain": [
       "<torch_geometric.loader.dataloader.DataLoader at 0x7f52891a3bb0>"
      ]
     },
     "execution_count": 34,
     "metadata": {},
     "output_type": "execute_result"
    }
   ],
   "source": [
    "L.make_loader_multiprocess(n_graphs=10, n_nodes=20, batch_size=5, dataset_name=\"Tester TOI\", shuffle=False, **variables)"
   ]
  },
  {
   "cell_type": "markdown",
   "metadata": {},
   "source": [
    "#GraphMaker makes the graphs in a lower level form:"
   ]
  },
  {
   "cell_type": "code",
   "execution_count": 35,
   "metadata": {},
   "outputs": [
    {
     "name": "stdout",
     "output_type": "stream",
     "text": [
      "Density is lower than minimum for a strongly connected adjacency matrix of this size. Returning A as is.\n"
     ]
    }
   ],
   "source": [
    "iterator = RGG.GraphMaker.generate_graphs(**variables)\n",
    "i = iterator.__next__()\n",
    "node = i[1]"
   ]
  },
  {
   "cell_type": "code",
   "execution_count": 36,
   "metadata": {},
   "outputs": [
    {
     "name": "stdout",
     "output_type": "stream",
     "text": [
      "1 [0 2] [2, 4, 4, 1] 155 155.0 1\n"
     ]
    }
   ],
   "source": [
    "print(node.index, node.neighbours, node.features, node.road_usage, node.congestion, node.congested)"
   ]
  },
  {
   "cell_type": "code",
   "execution_count": null,
   "metadata": {},
   "outputs": [],
   "source": []
  }
 ],
 "metadata": {
  "kernelspec": {
   "display_name": "bgn",
   "language": "python",
   "name": "python3"
  },
  "language_info": {
   "codemirror_mode": {
    "name": "ipython",
    "version": 3
   },
   "file_extension": ".py",
   "mimetype": "text/x-python",
   "name": "python",
   "nbconvert_exporter": "python",
   "pygments_lexer": "ipython3",
   "version": "3.9.18"
  }
 },
 "nbformat": 4,
 "nbformat_minor": 2
}
