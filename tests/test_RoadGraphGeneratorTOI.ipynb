{
 "cells": [
  {
   "cell_type": "code",
   "execution_count": 15,
   "metadata": {},
   "outputs": [],
   "source": [
    "import sys\n",
    "from pathlib import Path\n",
    "\n",
    "project_root = Path.cwd().parent\n",
    "sys.path.append(str(project_root))"
   ]
  },
  {
   "cell_type": "code",
   "execution_count": 16,
   "metadata": {},
   "outputs": [
    {
     "name": "stdout",
     "output_type": "stream",
     "text": [
      "Mock generate_graphs called\n"
     ]
    }
   ],
   "source": [
    "from unittest.mock import MagicMock, patch\n",
    "from RoadGraphGeneratorTOI import TorchDataSetMaker\n",
    "\n",
    "\n",
    "# Manually apply the mock using a context manager\n",
    "with patch(\"RoadGraphGeneratorTOI.GraphMaker\") as mock_graph_maker:\n",
    "    # Mock setup\n",
    "    mock_node = MagicMock()\n",
    "    mock_node.features = [1.0, 2.0, 3.0, 4.0]\n",
    "    mock_node.road_usage = 5\n",
    "    mock_node.congestion = 0.5\n",
    "    mock_node.congested = 0\n",
    "    mock_node.index = 0\n",
    "    mock_node.neighbours = [1]\n",
    "\n",
    "    mock_graph = [mock_node]\n",
    "\n",
    "    def mock_generate_graphs(*args, **kwargs):\n",
    "        print(\"Mock generate_graphs called\")\n",
    "        yield mock_graph\n",
    "\n",
    "    mock_graph_maker.generate_graphs.side_effect = mock_generate_graphs\n",
    "\n",
    "    # Function to test\n",
    "    dataset = TorchDataSetMaker.generate_torch_dataset_with_congestion(\n",
    "        number=1,\n",
    "        min_size=1,\n",
    "        max_size=2,\n",
    "        capacity_factor=1.0,\n",
    "        density=0.04,\n",
    "        min_length=1,\n",
    "        max_length=10,\n",
    "        rate_pop=0.4,\n",
    "        max_pop=3,\n",
    "        rate_poi=0.3,\n",
    "        max_poi=3,\n",
    "        min_cap=10,\n",
    "        max_cap=100,\n",
    "    )\n",
    "\n",
    "    # Assertions\n",
    "    assert len(dataset) == 1  # One graph generated\n",
    "    graph_data = dataset[0]\n",
    "    assert graph_data.x.tolist() == [[1.0, 2.0, 3.0, 4.0]]  # Node features\n",
    "    assert graph_data.y.tolist() == [[5, 0.5, 0]]          # Node labels\n",
    "    # Adjust the edge indices to match the mock graph\n",
    "    assert graph_data.edge_index.tolist() == [[0], [1]]    # Edge indices"
   ]
  },
  {
   "cell_type": "code",
   "execution_count": 17,
   "metadata": {},
   "outputs": [
    {
     "name": "stdout",
     "output_type": "stream",
     "text": [
      "Density is lower than minimum for a strongly connected adjacency matrix of this size. Returning A as is.\n",
      "Density is lower than minimum for a strongly connected adjacency matrix of this size. Returning A as is.\n",
      "Density is lower than minimum for a strongly connected adjacency matrix of this size. Returning A as is.\n",
      "Density is lower than minimum for a strongly connected adjacency matrix of this size. Returning A as is.\n",
      "Density is lower than minimum for a strongly connected adjacency matrix of this size. Returning A as is.\n",
      "Density is lower than minimum for a strongly connected adjacency matrix of this size. Returning A as is.\n",
      "Density is lower than minimum for a strongly connected adjacency matrix of this size. Returning A as is.\n",
      "Density is lower than minimum for a strongly connected adjacency matrix of this size. Returning A as is.\n",
      "Density is lower than minimum for a strongly connected adjacency matrix of this size. Returning A as is.\n",
      "Density is lower than minimum for a strongly connected adjacency matrix of this size. Returning A as is.\n",
      "10\n",
      "torch.Size([6, 4])\n",
      "torch.Size([2, 10])\n",
      "torch.Size([6, 3])\n"
     ]
    }
   ],
   "source": [
    "dataset = TorchDataSetMaker.generate_torch_dataset_with_congestion(\n",
    "    number=10,\n",
    "    min_size=5,\n",
    "    max_size=15,\n",
    "    capacity_factor=1.2\n",
    ")\n",
    "print(len(dataset))\n",
    "print(dataset[0].x.shape)\n",
    "print(dataset[0].edge_index.shape)\n",
    "print(dataset[0].y.shape)"
   ]
  },
  {
   "cell_type": "code",
   "execution_count": 18,
   "metadata": {},
   "outputs": [
    {
     "name": "stdout",
     "output_type": "stream",
     "text": [
      "Density is lower than minimum for a strongly connected adjacency matrix of this size. Returning A as is.\n",
      "Density is lower than minimum for a strongly connected adjacency matrix of this size. Returning A as is.\n",
      "Density is lower than minimum for a strongly connected adjacency matrix of this size. Returning A as is.\n",
      "Density is lower than minimum for a strongly connected adjacency matrix of this size. Returning A as is.\n",
      "Density is lower than minimum for a strongly connected adjacency matrix of this size. Returning A as is.\n",
      "Density is lower than minimum for a strongly connected adjacency matrix of this size. Returning A as is.\n",
      "Density is lower than minimum for a strongly connected adjacency matrix of this size. Returning A as is.\n",
      "Density is lower than minimum for a strongly connected adjacency matrix of this size. Returning A as is.\n",
      "Density is lower than minimum for a strongly connected adjacency matrix of this size. Returning A as is.\n",
      "Density is lower than minimum for a strongly connected adjacency matrix of this size. Returning A as is.\n",
      "10\n"
     ]
    },
    {
     "data": {
      "text/plain": [
       "[<RoadGraphGeneratorTOI.Node at 0x7f54a1b40850>,\n",
       " <RoadGraphGeneratorTOI.Node at 0x7f54a1b42c40>,\n",
       " <RoadGraphGeneratorTOI.Node at 0x7f54a1b42c10>,\n",
       " <RoadGraphGeneratorTOI.Node at 0x7f54a1b42940>,\n",
       " <RoadGraphGeneratorTOI.Node at 0x7f54a1b42bb0>,\n",
       " <RoadGraphGeneratorTOI.Node at 0x7f54a1b42b80>,\n",
       " <RoadGraphGeneratorTOI.Node at 0x7f54a1b42af0>,\n",
       " <RoadGraphGeneratorTOI.Node at 0x7f54a1b42be0>]"
      ]
     },
     "execution_count": 18,
     "metadata": {},
     "output_type": "execute_result"
    }
   ],
   "source": [
    "from RoadGraphGeneratorTOI import GraphMaker\n",
    "\n",
    "gm = GraphMaker()\n",
    "graphs = list(gm.generate_graphs(\n",
    "    number=10, \n",
    "    min_size=5, \n",
    "    max_size=15, \n",
    "    capacity_factor=1.2\n",
    "))\n",
    "print(len(graphs))\n",
    "graphs[0]  # Access the first generated graph"
   ]
  },
  {
   "cell_type": "markdown",
   "metadata": {},
   "source": []
  },
  {
   "cell_type": "code",
   "execution_count": null,
   "metadata": {},
   "outputs": [],
   "source": []
  }
 ],
 "metadata": {
  "kernelspec": {
   "display_name": "bgn",
   "language": "python",
   "name": "python3"
  },
  "language_info": {
   "codemirror_mode": {
    "name": "ipython",
    "version": 3
   },
   "file_extension": ".py",
   "mimetype": "text/x-python",
   "name": "python",
   "nbconvert_exporter": "python",
   "pygments_lexer": "ipython3",
   "version": "3.9.18"
  }
 },
 "nbformat": 4,
 "nbformat_minor": 2
}
